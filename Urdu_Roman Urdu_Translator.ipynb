{
 "cells": [
  {
   "cell_type": "code",
   "execution_count": 1,
   "metadata": {},
   "outputs": [],
   "source": [
    "def load_character_mapping():\n",
    "    return {\n",
    "        'a': 'ا', 'b': 'ب', 'c': 'ک', 'd': 'د', 'e': 'ای', 'f': 'ف', 'g': 'گ', 'h': 'ہ', 'i': 'آئی', 'j': 'ج',\n",
    "        'k': 'کے', 'l': 'ل', 'm': 'م', 'n': 'ن', 'o': 'او', 'p': 'پ', 'q': 'کو', 'r': 'آر', 's': 'ایس',\n",
    "        't': 'تی', 'u': 'یو', 'v': 'وی', 'w': 'و', 'x': 'اکس', 'y': 'وائی', 'z': 'زی',\n",
    "    }\n",
    "\n",
    "def translate_roman_urdu_to_urdu(sentence, translations, character_mapping):\n",
    "    words = sentence.split()\n",
    "    translated_sentence = []\n",
    "    for word in words:\n",
    "        if word in translations.values():\n",
    "            urdu_word = next(urdu_word for urdu_word, roman_urdu in translations.items() if roman_urdu == word)\n",
    "            translated_sentence.append(urdu_word)\n",
    "        else:\n",
    "            char_by_char_translation = ''.join([character_mapping.get(char, char) for char in word])\n",
    "            translated_sentence.append(char_by_char_translation)\n",
    "    return ' '.join(translated_sentence)\n",
    "\n",
    "if __name__ == \"__main__\":\n",
    "    csv_file_path = \"Urdu_Roman_Urdu_Data.csv\"\n",
    "    \n",
    "    choice = input(\"Choose an option:\\n1. Urdu to Roman Urdu\\n2. Roman Urdu to Urdu\\n\")\n",
    "    \n",
    "    translations = load_translations(csv_file_path)\n",
    "    character_mapping = load_character_mapping()\n",
    "    \n",
    "    if choice == \"1\":\n",
    "        sentence_to_translate = input(\"Enter an Urdu sentence: \")\n",
    "        translated_sentence = translate_urdu_to_roman_urdu(sentence_to_translate, translations, character_mapping)\n",
    "        print(\"Translated Sentence (Urdu to Roman Urdu):\")\n",
    "        print(translated_sentence)\n",
    "    elif choice == \"2\":\n",
    "        sentence_to_translate = input(\"Enter a Roman Urdu sentence: \")\n",
    "        translated_sentence = translate_roman_urdu_to_urdu(sentence_to_translate, translations, character_mapping)\n",
    "        print(\"Translated Sentence (Roman Urdu to Urdu):\")\n",
    "        print(translated_sentence)\n",
    "    else:\n",
    "        print(\"Invalid choice. Please choose 1 or 2.\")\n"
   ]
  }
 ],
 "metadata": {
  "kernelspec": {
   "display_name": "Python 3",
   "language": "python",
   "name": "python3"
  },
  "language_info": {
   "codemirror_mode": {
    "name": "ipython",
    "version": 3
   },
   "file_extension": ".py",
   "mimetype": "text/x-python",
   "name": "python",
   "nbconvert_exporter": "python",
   "pygments_lexer": "ipython3",
   "version": "3.11.5"
  },
  "orig_nbformat": 4
 },
 "nbformat": 4,
 "nbformat_minor": 2
}
